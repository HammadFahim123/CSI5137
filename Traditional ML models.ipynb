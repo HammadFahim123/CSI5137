{
  "nbformat": 4,
  "nbformat_minor": 0,
  "metadata": {
    "colab": {
      "name": "Final.ipynb",
      "provenance": []
    },
    "kernelspec": {
      "name": "python3",
      "display_name": "Python 3"
    },
    "language_info": {
      "name": "python"
    }
  },
  "cells": [
    {
      "cell_type": "code",
      "execution_count": null,
      "metadata": {
        "colab": {
          "base_uri": "https://localhost:8080/"
        },
        "id": "C7lCbbNYU6Cq",
        "outputId": "2ce10ae3-badf-40f4-fe53-a710bda0b0d0"
      },
      "outputs": [
        {
          "output_type": "stream",
          "name": "stdout",
          "text": [
            "Mounted at /content/gDrive\n"
          ]
        }
      ],
      "source": [
        "from google.colab import drive\n",
        "drive.mount('/content/gDrive')"
      ]
    },
    {
      "cell_type": "code",
      "source": [
        "import pandas as pd\n",
        "import numpy as np"
      ],
      "metadata": {
        "id": "f5vunZauVd4x"
      },
      "execution_count": null,
      "outputs": []
    },
    {
      "cell_type": "code",
      "source": [
        "data = pd.read_csv(r'/content/gDrive/MyDrive/ML/dd.csv',sep=';')"
      ],
      "metadata": {
        "id": "oxCGOceFVeGK"
      },
      "execution_count": null,
      "outputs": []
    },
    {
      "cell_type": "code",
      "source": [
        "data.info()"
      ],
      "metadata": {
        "colab": {
          "base_uri": "https://localhost:8080/"
        },
        "id": "2knaVW0OVeJI",
        "outputId": "0f6e77b6-2210-48fc-dcaa-f8ebb99eb9f5"
      },
      "execution_count": null,
      "outputs": [
        {
          "output_type": "stream",
          "name": "stdout",
          "text": [
            "<class 'pandas.core.frame.DataFrame'>\n",
            "RangeIndex: 8378 entries, 0 to 8377\n",
            "Data columns (total 3 columns):\n",
            " #   Column  Non-Null Count  Dtype \n",
            "---  ------  --------------  ----- \n",
            " 0   CALLID  8378 non-null   object\n",
            " 1   txt     8378 non-null   object\n",
            " 2   class   8378 non-null   object\n",
            "dtypes: object(3)\n",
            "memory usage: 196.5+ KB\n"
          ]
        }
      ]
    },
    {
      "cell_type": "code",
      "source": [
        "data['class'].unique()"
      ],
      "metadata": {
        "colab": {
          "base_uri": "https://localhost:8080/"
        },
        "id": "M1gHXTr9VeMj",
        "outputId": "91ef00b3-6088-4668-e27e-461886095082"
      },
      "execution_count": null,
      "outputs": [
        {
          "output_type": "execute_result",
          "data": {
            "text/plain": [
              "array(['c1', 'c2', 'c3', 'c4', 'c5'], dtype=object)"
            ]
          },
          "metadata": {},
          "execution_count": 7
        }
      ]
    },
    {
      "cell_type": "code",
      "source": [
        "from sklearn import preprocessing\n",
        "lenc = preprocessing.LabelEncoder()\n",
        "\n",
        "\n",
        "def labelEncode(data, columns):\n",
        "    for col in columns:\n",
        "        encoded = lenc.fit_transform(data[col])\n",
        "        data = pd.concat([data.drop(col, axis=1), pd.DataFrame(encoded)], axis=1)\n",
        "    return data"
      ],
      "metadata": {
        "id": "ruNbCHudK3Yd"
      },
      "execution_count": null,
      "outputs": []
    },
    {
      "cell_type": "code",
      "source": [
        "data = labelEncode(data,  ['class'])\n",
        "Y = data.iloc[:, 2]"
      ],
      "metadata": {
        "id": "q7wUXNyqLjAO"
      },
      "execution_count": null,
      "outputs": []
    },
    {
      "cell_type": "code",
      "source": [
        "# data distribution\n",
        "\n",
        "target_count = Y.value_counts()\n",
        "print('Class 0:', target_count[0])\n",
        "print('Class 1:', target_count[1])\n",
        "print('Class 2:', target_count[2])\n",
        "print('Class 3:', target_count[3])\n",
        "print('Class 4:', target_count[4])\n",
        "target_count.plot(kind='bar', rot = 0);\n",
        "print(\"\\n\")\n"
      ],
      "metadata": {
        "id": "DSe6VksQoFds",
        "colab": {
          "base_uri": "https://localhost:8080/",
          "height": 386
        },
        "outputId": "4eedbca9-e802-44e8-d260-4335704ca24d"
      },
      "execution_count": null,
      "outputs": [
        {
          "output_type": "stream",
          "name": "stdout",
          "text": [
            "Class 0: 1672\n",
            "Class 1: 1694\n",
            "Class 2: 1676\n",
            "Class 3: 1669\n",
            "Class 4: 1667\n",
            "\n",
            "\n"
          ]
        },
        {
          "output_type": "display_data",
          "data": {
            "image/png": "[encoded data removed]",
            "text/plain": [
              "<Figure size 432x288 with 1 Axes>"
            ]
          },
          "metadata": {
            "needs_background": "light"
          }
        }
      ]
    },
    {
      "cell_type": "code",
      "source": [
        "data =pd.DataFrame( data.iloc[:, 1])"
      ],
      "metadata": {
        "id": "NGgNJ1Synp_U"
      },
      "execution_count": null,
      "outputs": []
    },
    {
      "cell_type": "code",
      "source": [
        "data.shape"
      ],
      "metadata": {
        "colab": {
          "base_uri": "https://localhost:8080/"
        },
        "id": "CFs10_TtoIUh",
        "outputId": "b37bc6cf-ffe3-4f2c-97c3-90da25eaca33"
      },
      "execution_count": null,
      "outputs": [
        {
          "output_type": "execute_result",
          "data": {
            "text/plain": [
              "(8378, 1)"
            ]
          },
          "metadata": {},
          "execution_count": 12
        }
      ]
    },
    {
      "cell_type": "code",
      "source": [
        "data = data.reset_index(drop=True)"
      ],
      "metadata": {
        "id": "lS39BpmBVeQX"
      },
      "execution_count": null,
      "outputs": []
    },
    {
      "cell_type": "code",
      "source": [
        "data[\"txt\"] = data[\"txt\"].str.lower()"
      ],
      "metadata": {
        "id": "lrTlUxJIVoSq"
      },
      "execution_count": null,
      "outputs": []
    },
    {
      "cell_type": "code",
      "source": [
        "removed_numbers = data.txt.str.replace(r'\\d+','')\n",
        "removed_numbers.txt = data.txt.str.replace(r'\\d+','')"
      ],
      "metadata": {
        "id": "KDnBRWGjVwqO"
      },
      "execution_count": null,
      "outputs": []
    },
    {
      "cell_type": "code",
      "source": [
        "no_special_characters = removed_numbers.txt.str.replace(r'[^A-Za-z0-9 ]+', '', regex=True)\n",
        "no_special_characters.txt = removed_numbers.txt.str.replace(r'[^A-Za-z0-9 ]+', '', regex=True)"
      ],
      "metadata": {
        "id": "JTEGpV8tVxuv"
      },
      "execution_count": null,
      "outputs": []
    },
    {
      "cell_type": "code",
      "source": [
        "from keras.preprocessing.text import Tokenizer\n",
        "tk = Tokenizer(num_words= 200, filters = '!\"#$%&()*+,-./:;<=>?@[\\\\]^_`{|}~\\t\\n',lower=True, split=\" \")\n",
        "tk.fit_on_texts(no_special_characters.txt)"
      ],
      "metadata": {
        "id": "LpHVGL_SWbZr"
      },
      "execution_count": null,
      "outputs": []
    },
    {
      "cell_type": "code",
      "source": [
        "from sklearn.feature_extraction.text import CountVectorizer\n",
        "count_vect = CountVectorizer()\n",
        "X = count_vect.fit_transform(no_special_characters.txt)\n",
        "X.shape"
      ],
      "metadata": {
        "colab": {
          "base_uri": "https://localhost:8080/"
        },
        "outputId": "4b57c922-11a2-4c7a-a825-1a2c731171c0",
        "id": "VvabTXmSWcXJ"
      },
      "execution_count": null,
      "outputs": [
        {
          "output_type": "execute_result",
          "data": {
            "text/plain": [
              "(8378, 15657)"
            ]
          },
          "metadata": {},
          "execution_count": 18
        }
      ]
    },
    {
      "cell_type": "code",
      "source": [
        "from sklearn.feature_extraction.text import TfidfTransformer\n",
        "tfidf_transformer = TfidfTransformer()\n",
        "X_train_tfidf = tfidf_transformer.fit_transform(X)\n",
        "X_train_tfidf.shape"
      ],
      "metadata": {
        "colab": {
          "base_uri": "https://localhost:8080/"
        },
        "id": "uof48UgHVb1r",
        "outputId": "0e4b6db8-df76-4091-be88-788d2a299e2a"
      },
      "execution_count": null,
      "outputs": [
        {
          "output_type": "execute_result",
          "data": {
            "text/plain": [
              "(8378, 15657)"
            ]
          },
          "metadata": {},
          "execution_count": 19
        }
      ]
    },
    {
      "cell_type": "code",
      "source": [
        "X = X_train_tfidf"
      ],
      "metadata": {
        "id": "JAa3xr_rY_94"
      },
      "execution_count": null,
      "outputs": []
    },
    {
      "cell_type": "code",
      "source": [
        "# importing and defining models\n",
        "\n",
        "from sklearn import tree\n",
        "from sklearn.neighbors import KNeighborsClassifier\n",
        "from sklearn.naive_bayes import GaussianNB\n",
        "from sklearn.ensemble import RandomForestClassifier\n",
        "from sklearn.neural_network import MLPClassifier\n",
        "from sklearn.ensemble import BaggingClassifier\n",
        "from sklearn.svm import LinearSVC\n",
        "\n",
        "\n",
        "dt = tree.DecisionTreeClassifier(max_depth=15);\n",
        "knn = KNeighborsClassifier(n_neighbors=1)\n",
        "rf = RandomForestClassifier(n_estimators=100, max_depth=19)\n",
        "nb = GaussianNB()\n",
        "svm = LinearSVC()\n",
        "mlp = MLPClassifier(max_iter = 500)\n",
        "bagging = BaggingClassifier(base_estimator=tree.DecisionTreeClassifier(max_depth=13))"
      ],
      "metadata": {
        "id": "_tWdthAsXO6Q"
      },
      "execution_count": null,
      "outputs": []
    },
    {
      "cell_type": "code",
      "source": [
        "# apply models to dataset\n",
        "\n",
        "from sklearn.model_selection import  cross_val_predict\n",
        "import time\n",
        "\n",
        "times = []\n",
        "\n",
        "start = time.time()\n",
        "dt_pred = cross_val_predict(dt, X, Y, cv=5)\n",
        "times.append(time.time() - start)\n",
        "\n",
        "start = time.time()\n",
        "knn_pred = cross_val_predict(knn, X, Y, cv=5)\n",
        "times.append(time.time() - start)\n",
        "\n",
        "start = time.time()\n",
        "mlp_pred = cross_val_predict(mlp, X, Y, cv=5)\n",
        "times.append(time.time() - start)\n",
        "\n",
        "start = time.time()\n",
        "rf_pred = cross_val_predict(rf, X, Y, cv=5)\n",
        "times.append(time.time() - start)\n",
        "\n",
        "start = time.time()\n",
        "nb_pred = cross_val_predict(nb, X.toarray(), Y, cv=5)\n",
        "times.append(time.time() - start)\n",
        "\n",
        "start = time.time()\n",
        "svm_pred = cross_val_predict(svm, X.toarray(), Y, cv=5)\n",
        "times.append(time.time() - start)\n",
        "\n",
        "start = time.time()\n",
        "bagging_pred = cross_val_predict(bagging, X, Y, cv=5)\n",
        "times.append(time.time() - start)\n"
      ],
      "metadata": {
        "id": "ZB_Y8hNkc9ZR"
      },
      "execution_count": null,
      "outputs": []
    },
    {
      "cell_type": "code",
      "source": [
        "#Evaluate\n",
        "\n",
        "from sklearn.metrics import accuracy_score, recall_score, precision_score, f1_score\n",
        "\n",
        "lst = [\n",
        "    [\n",
        "        accuracy_score(dt_pred, Y),\n",
        "        accuracy_score(knn_pred, Y),\n",
        "        accuracy_score(mlp_pred, Y),\n",
        "        accuracy_score(nb_pred, Y),\n",
        "        accuracy_score(rf_pred, Y),\n",
        "        accuracy_score(bagging_pred, Y),\n",
        "        accuracy_score(svm_pred, Y)\n",
        "    ],\n",
        "    [\n",
        "        precision_score(dt_pred, Y,average='macro'),\n",
        "        precision_score(knn_pred, Y,average='macro'),\n",
        "        precision_score(mlp_pred, Y,average='macro'),\n",
        "        precision_score(nb_pred, Y,average='macro'),\n",
        "        precision_score(rf_pred, Y,average='macro'),\n",
        "        precision_score(bagging_pred, Y,average='macro'),\n",
        "        precision_score(svm_pred, Y,average='macro')\n",
        "    ],\n",
        "    [\n",
        "        recall_score(dt_pred, Y,average='macro'),\n",
        "        recall_score(knn_pred, Y,average='macro'),\n",
        "        recall_score(mlp_pred, Y,average='macro'),\n",
        "        recall_score(nb_pred, Y,average='macro'),\n",
        "        recall_score(rf_pred, Y,average='macro'),\n",
        "        recall_score(bagging_pred, Y,average='macro'),\n",
        "        recall_score(svm_pred, Y,average='macro')\n",
        "     \n",
        "    ], \n",
        "   \n",
        "    [\n",
        "        f1_score(dt_pred, Y,average='macro'),\n",
        "        f1_score(knn_pred, Y,average='macro'),\n",
        "        f1_score(mlp_pred, Y,average='macro'),\n",
        "        f1_score(nb_pred, Y,average='macro'),\n",
        "        f1_score(rf_pred, Y,average='macro'),\n",
        "        f1_score(bagging_pred, Y,average='macro'),\n",
        "        f1_score(svm_pred, Y,average='macro')\n",
        "    ],\n",
        "    [x/60 for x in times]\n",
        "]\n",
        "\n",
        "eval_df = pd.DataFrame(lst, columns=['Decision Tree', 'K Nearest Neighbour', 'Multi layer perceptron','Naive Bayes', 'Random Forest','Bagging','SVM'], index=['Accuracy', 'Precision','Recall', 'F1-score', 'Running time(mins)'])\n",
        "\n",
        "eval_df"
      ],
      "metadata": {
        "id": "iwVEUxbgc9b-",
        "colab": {
          "base_uri": "https://localhost:8080/",
          "height": 206
        },
        "outputId": "a5f70b86-55e3-4197-a386-3c66064b9d96"
      },
      "execution_count": null,
      "outputs": [
        {
          "output_type": "execute_result",
          "data": {
            "text/html": [
              "\n",
              "  <div id=\"df-6166ed33-3400-4c0d-a217-b5e8e77bf903\">\n",
              "    <div class=\"colab-df-container\">\n",
              "      <div>\n",
              "<style scoped>\n",
              "    .dataframe tbody tr th:only-of-type {\n",
              "        vertical-align: middle;\n",
              "    }\n",
              "\n",
              "    .dataframe tbody tr th {\n",
              "        vertical-align: top;\n",
              "    }\n",
              "\n",
              "    .dataframe thead th {\n",
              "        text-align: right;\n",
              "    }\n",
              "</style>\n",
              "<table border=\"1\" class=\"dataframe\">\n",
              "  <thead>\n",
              "    <tr style=\"text-align: right;\">\n",
              "      <th></th>\n",
              "      <th>Decision Tree</th>\n",
              "      <th>K Nearest Neighbour</th>\n",
              "      <th>Multi layer perceptron</th>\n",
              "      <th>Naive Bayes</th>\n",
              "      <th>Random Forest</th>\n",
              "      <th>Bagging</th>\n",
              "      <th>SVM</th>\n",
              "    </tr>\n",
              "  </thead>\n",
              "  <tbody>\n",
              "    <tr>\n",
              "      <th>Accuracy</th>\n",
              "      <td>0.433994</td>\n",
              "      <td>0.376940</td>\n",
              "      <td>0.518740</td>\n",
              "      <td>0.380878</td>\n",
              "      <td>0.554548</td>\n",
              "      <td>0.464073</td>\n",
              "      <td>0.578420</td>\n",
              "    </tr>\n",
              "    <tr>\n",
              "      <th>Precision</th>\n",
              "      <td>0.434362</td>\n",
              "      <td>0.376993</td>\n",
              "      <td>0.518774</td>\n",
              "      <td>0.380970</td>\n",
              "      <td>0.554705</td>\n",
              "      <td>0.464576</td>\n",
              "      <td>0.578499</td>\n",
              "    </tr>\n",
              "    <tr>\n",
              "      <th>Recall</th>\n",
              "      <td>0.470840</td>\n",
              "      <td>0.377296</td>\n",
              "      <td>0.518148</td>\n",
              "      <td>0.391750</td>\n",
              "      <td>0.555635</td>\n",
              "      <td>0.513630</td>\n",
              "      <td>0.578300</td>\n",
              "    </tr>\n",
              "    <tr>\n",
              "      <th>F1-score</th>\n",
              "      <td>0.428769</td>\n",
              "      <td>0.376336</td>\n",
              "      <td>0.518188</td>\n",
              "      <td>0.372676</td>\n",
              "      <td>0.553016</td>\n",
              "      <td>0.459607</td>\n",
              "      <td>0.578057</td>\n",
              "    </tr>\n",
              "    <tr>\n",
              "      <th>Running time(mins)</th>\n",
              "      <td>0.039069</td>\n",
              "      <td>0.031816</td>\n",
              "      <td>13.598376</td>\n",
              "      <td>0.174909</td>\n",
              "      <td>0.191054</td>\n",
              "      <td>0.078957</td>\n",
              "      <td>0.240509</td>\n",
              "    </tr>\n",
              "  </tbody>\n",
              "</table>\n",
              "</div>\n",
              "      <button class=\"colab-df-convert\" onclick=\"convertToInteractive('df-6166ed33-3400-4c0d-a217-b5e8e77bf903')\"\n",
              "              title=\"Convert this dataframe to an interactive table.\"\n",
              "              style=\"display:none;\">\n",
              "        \n",
              "  <svg xmlns=\"http://www.w3.org/2000/svg\" height=\"24px\"viewBox=\"0 0 24 24\"\n",
              "       width=\"24px\">\n",
              "    <path d=\"M0 0h24v24H0V0z\" fill=\"none\"/>\n",
              "    <path d=\"M18.56 5.44l.94 2.06.94-2.06 2.06-.94-2.06-.94-.94-2.06-.94 2.06-2.06.94zm-11 1L8.5 8.5l.94-2.06 2.06-.94-2.06-.94L8.5 2.5l-.94 2.06-2.06.94zm10 10l.94 2.06.94-2.06 2.06-.94-2.06-.94-.94-2.06-.94 2.06-2.06.94z\"/><path d=\"M17.41 7.96l-1.37-1.37c-.4-.4-.92-.59-1.43-.59-.52 0-1.04.2-1.43.59L10.3 9.45l-7.72 7.72c-.78.78-.78 2.05 0 2.83L4 21.41c.39.39.9.59 1.41.59.51 0 1.02-.2 1.41-.59l7.78-7.78 2.81-2.81c.8-.78.8-2.07 0-2.86zM5.41 20L4 18.59l7.72-7.72 1.47 1.35L5.41 20z\"/>\n",
              "  </svg>\n",
              "      </button>\n",
              "      \n",
              "  <style>\n",
              "    .colab-df-container {\n",
              "      display:flex;\n",
              "      flex-wrap:wrap;\n",
              "      gap: 12px;\n",
              "    }\n",
              "\n",
              "    .colab-df-convert {\n",
              "      background-color: #E8F0FE;\n",
              "      border: none;\n",
              "      border-radius: 50%;\n",
              "      cursor: pointer;\n",
              "      display: none;\n",
              "      fill: #1967D2;\n",
              "      height: 32px;\n",
              "      padding: 0 0 0 0;\n",
              "      width: 32px;\n",
              "    }\n",
              "\n",
              "    .colab-df-convert:hover {\n",
              "      background-color: #E2EBFA;\n",
              "      box-shadow: 0px 1px 2px rgba(60, 64, 67, 0.3), 0px 1px 3px 1px rgba(60, 64, 67, 0.15);\n",
              "      fill: #174EA6;\n",
              "    }\n",
              "\n",
              "    [theme=dark] .colab-df-convert {\n",
              "      background-color: #3B4455;\n",
              "      fill: #D2E3FC;\n",
              "    }\n",
              "\n",
              "    [theme=dark] .colab-df-convert:hover {\n",
              "      background-color: #434B5C;\n",
              "      box-shadow: 0px 1px 3px 1px rgba(0, 0, 0, 0.15);\n",
              "      filter: drop-shadow(0px 1px 2px rgba(0, 0, 0, 0.3));\n",
              "      fill: #FFFFFF;\n",
              "    }\n",
              "  </style>\n",
              "\n",
              "      <script>\n",
              "        const buttonEl =\n",
              "          document.querySelector('#df-6166ed33-3400-4c0d-a217-b5e8e77bf903 button.colab-df-convert');\n",
              "        buttonEl.style.display =\n",
              "          google.colab.kernel.accessAllowed ? 'block' : 'none';\n",
              "\n",
              "        async function convertToInteractive(key) {\n",
              "          const element = document.querySelector('#df-6166ed33-3400-4c0d-a217-b5e8e77bf903');\n",
              "          const dataTable =\n",
              "            await google.colab.kernel.invokeFunction('convertToInteractive',\n",
              "                                                     [key], {});\n",
              "          if (!dataTable) return;\n",
              "\n",
              "          const docLinkHtml = 'Like what you see? Visit the ' +\n",
              "            '<a target=\"_blank\" href=https://colab.research.google.com/notebooks/data_table.ipynb>data table notebook</a>'\n",
              "            + ' to learn more about interactive tables.';\n",
              "          element.innerHTML = '';\n",
              "          dataTable['output_type'] = 'display_data';\n",
              "          await google.colab.output.renderOutput(dataTable, element);\n",
              "          const docLink = document.createElement('div');\n",
              "          docLink.innerHTML = docLinkHtml;\n",
              "          element.appendChild(docLink);\n",
              "        }\n",
              "      </script>\n",
              "    </div>\n",
              "  </div>\n",
              "  "
            ],
            "text/plain": [
              "                    Decision Tree  K Nearest Neighbour  ...   Bagging       SVM\n",
              "Accuracy                 0.433994             0.376940  ...  0.464073  0.578420\n",
              "Precision                0.434362             0.376993  ...  0.464576  0.578499\n",
              "Recall                   0.470840             0.377296  ...  0.513630  0.578300\n",
              "F1-score                 0.428769             0.376336  ...  0.459607  0.578057\n",
              "Running time(mins)       0.039069             0.031816  ...  0.078957  0.240509\n",
              "\n",
              "[5 rows x 7 columns]"
            ]
          },
          "metadata": {},
          "execution_count": 24
        }
      ]
    },
    {
      "cell_type": "code",
      "source": [
        "# confusion Matrix for SVM\n",
        "import numpy as np\n",
        "from matplotlib import pyplot as plt\n",
        "from sklearn.metrics import confusion_matrix\n",
        "\n",
        "def plot_confusion_matrix(cm, target_names, title='Confusion matrix', cmap=plt.cm.Blues):\n",
        "    plt.imshow(cm, interpolation='nearest', cmap=cmap)\n",
        "    plt.title(title)\n",
        "    plt.colorbar()\n",
        "    tick_marks = np.arange(len(target_names))\n",
        "    plt.xticks(tick_marks, target_names, rotation=45)\n",
        "    plt.yticks(tick_marks, target_names)\n",
        "    plt.tight_layout()\n",
        "\n",
        "    width, height = cm.shape\n",
        "\n",
        "    for x in range(width):\n",
        "        for y in range(height):\n",
        "            plt.annotate(str(cm[x][y]), xy=(y, x), \n",
        "                        horizontalalignment='center',\n",
        "                        verticalalignment='center')\n",
        "    plt.ylabel('True label')\n",
        "    plt.xlabel('Predicted label')\n",
        "\n",
        "cm = confusion_matrix(Y,svm_pred)\n",
        "plot_confusion_matrix(cm, ['1', '0'])"
      ],
      "metadata": {
        "id": "XjZpPobEc9el",
        "colab": {
          "base_uri": "https://localhost:8080/",
          "height": 311
        },
        "outputId": "1db3b6bd-7963-4d62-d286-a28c501f0036"
      },
      "execution_count": null,
      "outputs": [
        {
          "output_type": "display_data",
          "data": {
            "image/png": "[encoded data removed]",
            "text/plain": [
              "<Figure size 432x288 with 2 Axes>"
            ]
          },
          "metadata": {
            "needs_background": "light"
          }
        }
      ]
    }
  ]
}